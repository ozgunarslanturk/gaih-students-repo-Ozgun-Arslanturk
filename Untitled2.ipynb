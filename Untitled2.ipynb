{
  "nbformat": 4,
  "nbformat_minor": 0,
  "metadata": {
    "colab": {
      "name": "Untitled2.ipynb",
      "provenance": [],
      "mount_file_id": "1cht760K26Xy6T85XbllPGL_KbJ_OMnKf",
      "authorship_tag": "ABX9TyNkc8+BugN+nmjipLsWF7kK",
      "include_colab_link": true
    },
    "kernelspec": {
      "name": "python3",
      "display_name": "Python 3"
    },
    "language_info": {
      "name": "python"
    }
  },
  "cells": [
    {
      "cell_type": "markdown",
      "metadata": {
        "id": "view-in-github",
        "colab_type": "text"
      },
      "source": [
        "<a href=\"https://colab.research.google.com/github/ozgunarslanturk/gaih-students-repo-Ozgun-Arslanturk/blob/main/Untitled2.ipynb\" target=\"_parent\"><img src=\"https://colab.research.google.com/assets/colab-badge.svg\" alt=\"Open In Colab\"/></a>"
      ]
    },
    {
      "cell_type": "code",
      "metadata": {
        "colab": {
          "base_uri": "https://localhost:8080/"
        },
        "id": "ls3i1afdLlK9",
        "outputId": "ddd3a570-302f-47a7-c9a0-46cdcf9e2d2b"
      },
      "source": [
        "list=[\"1\",\"2\",\"3\",\"4\",\"5\",\"6\"]\n",
        "n=int(len(list))\n",
        "list1=list[0:n//2]\n",
        "list2=list[n//2:n]\n",
        "print(list2 + list1)\n"
      ],
      "execution_count": 8,
      "outputs": [
        {
          "output_type": "stream",
          "text": [
            "['4', '5', '6', '1', '2', '3']\n"
          ],
          "name": "stdout"
        }
      ]
    },
    {
      "cell_type": "code",
      "metadata": {
        "colab": {
          "base_uri": "https://localhost:8080/"
        },
        "id": "EVZs1_RhLrd_",
        "outputId": "a98e53a0-ed83-463f-96a0-a12305b14a8e"
      },
      "source": [
        "n=int(input(\"Tek basamaklı bir tam sayı giriniz:\"))\n",
        "if not -10<n<10:\n",
        "    print(\"yanlış\")\n",
        "elif n<=0:\n",
        "    a=(range((n*-1)+1))\n",
        "    b=[-i for i in a if i%2==0]\n",
        "    print(b)\n",
        "elif 0<=n<10:\n",
        "    a=(range(n+1))\n",
        "    b= [i for i in a if i%2==0]\n",
        "    print(b)\n",
        "else:\n",
        "    print(\"Tek basamaklı bir tam sayı girmediniz.\")\n"
      ],
      "execution_count": 9,
      "outputs": [
        {
          "output_type": "stream",
          "text": [
            "Tek basamaklı bir tam sayı giriniz:-5\n",
            "[0, -2, -4]\n"
          ],
          "name": "stdout"
        }
      ]
    }
  ]
}
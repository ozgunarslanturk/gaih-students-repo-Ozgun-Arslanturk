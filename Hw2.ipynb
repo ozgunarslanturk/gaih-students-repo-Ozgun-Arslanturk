{
  "nbformat": 4,
  "nbformat_minor": 0,
  "metadata": {
    "colab": {
      "name": "Untitled0.ipynb",
      "provenance": [],
      "authorship_tag": "ABX9TyOHnIlxbVquFs5HZbE0iu83",
      "include_colab_link": true
    },
    "kernelspec": {
      "name": "python3",
      "display_name": "Python 3"
    },
    "language_info": {
      "name": "python"
    }
  },
  "cells": [
    {
      "cell_type": "markdown",
      "metadata": {
        "id": "view-in-github",
        "colab_type": "text"
      },
      "source": [
        "<a href=\"https://colab.research.google.com/github/ozgunarslanturk/gaih-students-repo-Ozgun-Arslanturk/blob/main/Hw2.ipynb\" target=\"_parent\"><img src=\"https://colab.research.google.com/assets/colab-badge.svg\" alt=\"Open In Colab\"/></a>"
      ]
    },
    {
      "cell_type": "code",
      "metadata": {
        "colab": {
          "base_uri": "https://localhost:8080/"
        },
        "id": "Q-4H7O0RSEcq",
        "outputId": "0b24d9bb-7049-45c6-e45c-dc14f1dfd4d1"
      },
      "source": [
        "kullanıcıadı=str(\"özgün\")\n",
        "şifre=(123456)\n",
        "a=str(input(\"kullanıcı adınızı giriniz:\"))\n",
        "if kullanıcıadı==a:\n",
        "    b=int(input(\"şifrenizi giriniz:\"))\n",
        "    if b==şifre:\n",
        "        print(\"Doğru.\")\n",
        "    else:\n",
        "        print(\"şifre yanlış\")\n",
        "else:\n",
        "    print(\"kullanıcı adı yanlış.\")\n"
      ],
      "execution_count": 2,
      "outputs": [
        {
          "output_type": "stream",
          "text": [
            "kullanıcı adınızı giriniz:özgün\n",
            "şifrenizi giriniz:123456\n",
            "Doğru.\n"
          ],
          "name": "stdout"
        }
      ]
    },
    {
      "cell_type": "code",
      "metadata": {
        "colab": {
          "base_uri": "https://localhost:8080/"
        },
        "id": "n_ZOQHtXSGCF",
        "outputId": "f2b5366a-487f-4064-daed-50f5669e7d89"
      },
      "source": [
        "d={\"özgün\":123456}\n",
        "d2={}\n",
        "a=str(input(\"Kullanıcı adınızı giriniz:\"))\n",
        "b=int(input(\"Şifrenizi giriniz:\"))\n",
        "d2[a]= b\n",
        "if d2==d:\n",
        "    print(\"doğru.\")\n",
        "else:\n",
        "    print(\"hatalı şifre veya kullanıcı adı.\")\n",
        "    "
      ],
      "execution_count": 3,
      "outputs": [
        {
          "output_type": "stream",
          "text": [
            "Kullanıcı adınızı giriniz:özgün\n",
            "Şifrenizi giriniz:123456\n",
            "doğru.\n"
          ],
          "name": "stdout"
        }
      ]
    }
  ]
}
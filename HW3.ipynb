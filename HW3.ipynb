{
  "nbformat": 4,
  "nbformat_minor": 0,
  "metadata": {
    "colab": {
      "name": "Untitled2.ipynb",
      "provenance": [],
      "authorship_tag": "ABX9TyOcakdcvFZSHL762VT+90nf",
      "include_colab_link": true
    },
    "kernelspec": {
      "name": "python3",
      "display_name": "Python 3"
    },
    "language_info": {
      "name": "python"
    }
  },
  "cells": [
    {
      "cell_type": "markdown",
      "metadata": {
        "id": "view-in-github",
        "colab_type": "text"
      },
      "source": [
        "<a href=\"https://colab.research.google.com/github/ozgunarslanturk/gaih-students-repo-Ozgun-Arslanturk/blob/main/Untitled2.ipynb\" target=\"_parent\"><img src=\"https://colab.research.google.com/assets/colab-badge.svg\" alt=\"Open In Colab\"/></a>"
      ]
    },
    {
      "cell_type": "code",
      "metadata": {
        "colab": {
          "base_uri": "https://localhost:8080/"
        },
        "id": "5xb2lA9738H4",
        "outputId": "4bc6a931-7f9b-43b9-aa99-947c228762f2"
      },
      "source": [
        "a=str(input(\"Öğrencinin adı:\"))\n",
        "a2=float(input(\"öğrencinin midterm notu:\"))*0.3 + float(input(\"öğrencinin proje notu:\"))*0.3 + float(input(\"öğrencinin final notu:\"))*0.4\n",
        "b=str(input(\"2. öğrencinin adı:\"))\n",
        "b2=float(input(\"2. öğrencinin midterm notu:\"))*0.3 + float(input(\"2. öğrencinin proje notu\"))*0.3 + float(input(\"2. öğrencinin final notu:\"))*0.4\n",
        "c=str(input(\"3. öğrencinin adı:\"))\n",
        "c2=float(input(\"3. öğrencinin midterm notu:\"))*0.3 + float(input(\"3. öğrencinin proje notu:\"))*0.3 + float(input(\"3. öğrencinin final notu:\"))*0.4\n",
        "d=str(input(\"4. öğrencinin adı:\"))\n",
        "d2= float(input(\"4. öğrencinin midterm notu:\"))*0.3 + float(input(\"4. öğrencinin proje notu:\"))*0.3 + float(input(\"4. öğrencinin final notu:\"))*0.4\n",
        "e=str(input(\"5. öğrencinin adı:\"))\n",
        "e2= float(input(\"5. öğrencinin midterm notu:\"))*0.3 + float(input(\"5. öğrencinin proje notu:\"))*0.3 + float(input(\"5. öğrencinin final notu:\"))*0.4\n",
        "notlarınbüyüklükleri= [a2,b2,c2,d2,e2]\n",
        "notlarınbüyüklükleri.sort()\n",
        "notlarınbüyüklükleri.reverse()\n",
        "\n",
        "student1={\"ad: \":a , \"passing grade: \":a2}\n",
        "student2={\"ad: \":b , \"passing grade: \":b2}\n",
        "student3={\"ad: \":c , \"passing grade: \":c2}\n",
        "student4={\"ad: \":d , \"passing grade: \":d2}\n",
        "student5={\"ad: \":e , \"passing grade: \":e2}\n",
        "studentsDict={0:0, 1:1 , 2:2 , 3:3, 4:4}\n",
        "studentsDict[0]=student1\n",
        "studentsDict[1]=student2\n",
        "studentsDict[2]=student3\n",
        "studentsDict[3]=student4\n",
        "studentsDict[4]=student5 \n",
        "\n",
        "allpassinggrades= []\n",
        "for i in studentsDict.values(): \n",
        "  allpassinggrades.append(i)\n",
        "print(allpassinggrades)\n",
        "print(notlarınbüyüklükleri)"
      ],
      "execution_count": 13,
      "outputs": [
        {
          "output_type": "stream",
          "text": [
            "Öğrencinin adı:ÖZGÜN\n",
            "öğrencinin midterm notu:90\n",
            "öğrencinin proje notu:90\n",
            "öğrencinin final notu:80\n",
            "2. öğrencinin adı:ELA\n",
            "2. öğrencinin midterm notu:90\n",
            "2. öğrencinin proje notu75\n",
            "2. öğrencinin final notu:80\n",
            "3. öğrencinin adı:AHMET\n",
            "3. öğrencinin midterm notu:90\n",
            "3. öğrencinin proje notu:60\n",
            "3. öğrencinin final notu:80\n",
            "4. öğrencinin adı:BAŞAK\n",
            "4. öğrencinin midterm notu:90\n",
            "4. öğrencinin proje notu:45\n",
            "4. öğrencinin final notu:80\n",
            "5. öğrencinin adı:DOĞA\n",
            "5. öğrencinin midterm notu:90\n",
            "5. öğrencinin proje notu:30\n",
            "5. öğrencinin final notu:80\n",
            "[{'ad: ': 'ÖZGÜN', 'passing grade: ': 86.0}, {'ad: ': 'ELA', 'passing grade: ': 81.5}, {'ad: ': 'AHMET', 'passing grade: ': 77.0}, {'ad: ': 'BAŞAK', 'passing grade: ': 72.5}, {'ad: ': 'DOĞA', 'passing grade: ': 68.0}]\n",
            "[86.0, 81.5, 77.0, 72.5, 68.0]\n"
          ],
          "name": "stdout"
        }
      ]
    }
  ]
}
